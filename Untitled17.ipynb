{
  "nbformat": 4,
  "nbformat_minor": 0,
  "metadata": {
    "colab": {
      "provenance": [],
      "authorship_tag": "ABX9TyPcNweLEKIgJPfBtfOaFBki",
      "include_colab_link": true
    },
    "kernelspec": {
      "name": "python3",
      "display_name": "Python 3"
    },
    "language_info": {
      "name": "python"
    }
  },
  "cells": [
    {
      "cell_type": "markdown",
      "metadata": {
        "id": "view-in-github",
        "colab_type": "text"
      },
      "source": [
        "<a href=\"https://colab.research.google.com/github/jainriya9/DeepFake-Detection/blob/main/Untitled17.ipynb\" target=\"_parent\"><img src=\"https://colab.research.google.com/assets/colab-badge.svg\" alt=\"Open In Colab\"/></a>"
      ]
    },
    {
      "cell_type": "code",
      "execution_count": null,
      "metadata": {
        "colab": {
          "base_uri": "https://localhost:8080/"
        },
        "id": "6QLuXq0ZfzR4",
        "outputId": "c0c21d81-3a99-4c98-de97-06160f884e0c"
      },
      "outputs": [
        {
          "output_type": "stream",
          "name": "stdout",
          "text": [
            "Mounted at /content/drive\n"
          ]
        }
      ],
      "source": [
        "from google.colab import drive\n",
        "drive.mount('/content/drive')"
      ]
    },
    {
      "cell_type": "code",
      "source": [
        "import os\n",
        "print(os.listdir('/content/drive/MyDrive/Celeb-DF'))"
      ],
      "metadata": {
        "colab": {
          "base_uri": "https://localhost:8080/"
        },
        "id": "ksVlS85uf4NG",
        "outputId": "7fb6f730-d6fa-42ec-b165-6abfdcc69f58"
      },
      "execution_count": null,
      "outputs": [
        {
          "output_type": "stream",
          "name": "stdout",
          "text": [
            "['List_of_testing_videos.txt', 'Celeb-synthesis', 'Celeb-real', 'YouTube-real']\n"
          ]
        }
      ]
    },
    {
      "cell_type": "code",
      "source": [
        "# Define the paths to your dataset in Google Drive\n",
        "real_videos_dir = '/content/drive/MyDrive/Celeb-DF/Celeb-real'\n",
        "fake_videos_dir = '/content/drive/MyDrive/Celeb-DF/Celeb-synthesis'\n",
        "\n",
        "# Verify that the paths are correct\n",
        "import os\n",
        "print(os.listdir(real_videos_dir))\n",
        "print(os.listdir(fake_videos_dir))"
      ],
      "metadata": {
        "colab": {
          "base_uri": "https://localhost:8080/"
        },
        "id": "UBLnPjdYf4J4",
        "outputId": "0282cb9a-b458-4890-81bf-6dd211fcee64"
      },
      "execution_count": null,
      "outputs": [
        {
          "output_type": "stream",
          "name": "stdout",
          "text": [
            "['id0_0000.mp4', 'id0_0001.mp4', 'id0_0002.mp4', 'id0_0005.mp4', 'id0_0006.mp4', 'id10_0000.mp4', 'id0_0009.mp4', 'id0_0003.mp4', 'id0_0008.mp4', 'id0_0007.mp4', 'id0_0004.mp4', 'id11_0005.mp4', 'id10_0001.mp4', 'id10_0006.mp4', 'id11_0006.mp4', 'id10_0002.mp4', 'id10_0008.mp4', 'id10_0007.mp4', 'id10_0003.mp4', 'id10_0009.mp4', 'id10_0005.mp4', 'id11_0003.mp4', 'id11_0002.mp4', 'id11_0000.mp4', 'id11_0001.mp4', 'id10_0004.mp4', 'id11_0004.mp4', 'id12_0004.mp4', 'id13_0005.mp4', 'id13_0008.mp4', 'id13_0000.mp4', 'id11_0008.mp4', 'id13_0007.mp4', 'id13_0009.mp4', 'id13_0006.mp4', 'id11_0010.mp4', 'id12_0000.mp4', 'id12_0001.mp4', 'id13_0004.mp4', 'id11_0009.mp4', 'id13_0001.mp4', 'id12_0003.mp4', 'id11_0007.mp4', 'id12_0006.mp4', 'id13_0003.mp4', 'id12_0005.mp4', 'id13_0002.mp4', 'id12_0002.mp4', 'id13_0015.mp4', 'id13_0014.mp4', 'id16_0003.mp4', 'id13_0013.mp4', 'id13_0010.mp4', 'id16_0000.mp4', 'id13_0012.mp4', 'id16_0001.mp4', 'id16_0002.mp4', 'id13_0011.mp4', 'id17_0006.mp4', 'id16_0005.mp4', 'id16_0008.mp4', 'id17_0007.mp4', 'id16_0009.mp4', 'id17_0005.mp4', 'id16_0004.mp4', 'id16_0012.mp4', 'id17_0003.mp4', 'id16_0010.mp4', 'id16_0013.mp4', 'id17_0004.mp4', 'id17_0000.mp4', 'id16_0011.mp4', 'id17_0001.mp4', 'id17_0002.mp4', 'id16_0006.mp4', 'id16_0007.mp4', 'id2_0005.mp4', 'id2_0008.mp4', 'id1_0001.mp4', 'id2_0007.mp4', 'id17_0009.mp4', 'id1_0000.mp4', 'id1_0005.mp4', 'id2_0002.mp4', 'id1_0006.mp4', 'id17_0008.mp4', 'id1_0002.mp4', 'id1_0007.mp4', 'id2_0003.mp4', 'id1_0009.mp4', 'id1_0008.mp4', 'id2_0006.mp4', 'id1_0003.mp4', 'id2_0000.mp4', 'id2_0004.mp4', 'id1_0004.mp4', 'id2_0001.mp4', 'id2_0009.mp4', 'id3_0009.mp4', 'id3_0001.mp4', 'id3_0003.mp4', 'id4_0003.mp4', 'id3_0005.mp4', 'id3_0000.mp4', 'id3_0004.mp4', 'id4_0001.mp4', 'id3_0006.mp4', 'id4_0002.mp4', 'id3_0007.mp4', 'id4_0000.mp4', 'id3_0002.mp4', 'id3_0008.mp4', 'id6_0002.mp4', 'id4_0009.mp4', 'id6_0003.mp4', 'id4_0006.mp4', 'id6_0001.mp4', 'id4_0007.mp4', 'id6_0000.mp4', 'id6_0005.mp4', 'id4_0004.mp4', 'id4_0005.mp4', 'id6_0004.mp4', 'id4_0008.mp4', 'id6_0006.mp4', 'id7_0007.mp4', 'id8_0002.mp4', 'id7_0005.mp4', 'id7_0004.mp4', 'id8_0003.mp4', 'id7_0009.mp4', 'id7_0001.mp4', 'id7_0000.mp4', 'id6_0007.mp4', 'id8_0004.mp4', 'id8_0000.mp4', 'id8_0005.mp4', 'id7_0002.mp4', 'id8_0001.mp4', 'id7_0006.mp4', 'id7_0003.mp4', 'id7_0008.mp4', 'id6_0008.mp4', 'id6_0009.mp4', 'id9_0001.mp4', 'id9_0002.mp4', 'id9_0000.mp4', 'id8_0006.mp4', 'id9_0006.mp4', 'id8_0007.mp4', 'id9_0005.mp4', 'id9_0004.mp4', 'id8_0008.mp4', 'id9_0003.mp4', 'id8_0009.mp4', 'id9_0009.mp4', 'id9_0008.mp4', 'id9_0007.mp4']\n",
            "['id0_id16_0008.mp4', 'id0_id16_0007.mp4', 'id0_id16_0004.mp4', 'id0_id16_0005.mp4', 'id0_id16_0006.mp4', 'id0_id16_0003.mp4', 'id0_id16_0000.mp4', 'id0_id16_0001.mp4', 'id0_id16_0002.mp4', 'id0_id1_0001.mp4', 'id0_id17_0006.mp4', 'id0_id17_0009.mp4', 'id0_id1_0005.mp4', 'id0_id17_0002.mp4', 'id0_id17_0001.mp4', 'id0_id1_0002.mp4', 'id0_id1_0006.mp4', 'id0_id17_0003.mp4', 'id0_id16_0009.mp4', 'id0_id1_0000.mp4', 'id0_id17_0005.mp4', 'id0_id17_0007.mp4', 'id0_id1_0003.mp4', 'id0_id1_0007.mp4', 'id0_id17_0000.mp4', 'id0_id2_0008.mp4', 'id0_id2_0003.mp4', 'id0_id2_0007.mp4', 'id0_id2_0009.mp4', 'id0_id3_0000.mp4', 'id0_id2_0004.mp4', 'id0_id2_0005.mp4', 'id0_id1_0009.mp4', 'id0_id2_0006.mp4', 'id0_id2_0001.mp4', 'id0_id2_0000.mp4', 'id0_id2_0002.mp4', 'id0_id3_0002.mp4', 'id0_id4_0000.mp4', 'id0_id3_0004.mp4', 'id0_id4_0001.mp4', 'id0_id3_0008.mp4', 'id0_id3_0005.mp4', 'id0_id3_0006.mp4', 'id0_id3_0001.mp4', 'id0_id3_0009.mp4', 'id0_id3_0003.mp4', 'id0_id3_0007.mp4', 'id0_id6_0006.mp4', 'id0_id4_0006.mp4', 'id0_id9_0005.mp4', 'id0_id4_0003.mp4', 'id0_id6_0000.mp4', 'id0_id9_0002.mp4', 'id0_id9_0001.mp4', 'id0_id6_0002.mp4', 'id0_id6_0001.mp4', 'id0_id6_0007.mp4', 'id0_id4_0005.mp4', 'id0_id9_0000.mp4', 'id0_id9_0003.mp4', 'id0_id9_0006.mp4', 'id0_id4_0009.mp4', 'id0_id4_0002.mp4', 'id0_id4_0004.mp4', 'id0_id6_0009.mp4', 'id10_id12_0003.mp4', 'id10_id11_0001.mp4', 'id10_id12_0002.mp4', 'id0_id9_0008.mp4', 'id10_id11_0008.mp4', 'id10_id11_0005.mp4', 'id0_id9_0007.mp4', 'id10_id11_0006.mp4', 'id10_id11_0007.mp4', 'id10_id11_0004.mp4', 'id0_id9_0009.mp4', 'id10_id11_0002.mp4', 'id10_id12_0001.mp4', 'id10_id11_0003.mp4', 'id10_id7_0001.mp4', 'id10_id12_0004.mp4', 'id10_id13_0007.mp4', 'id10_id7_0002.mp4', 'id10_id13_0002.mp4', 'id10_id13_0004.mp4', 'id10_id13_0005.mp4', 'id10_id12_0007.mp4', 'id10_id12_0006.mp4', 'id10_id13_0001.mp4', 'id10_id13_0008.mp4', 'id10_id12_0008.mp4', 'id10_id13_0003.mp4', 'id10_id12_0005.mp4', 'id10_id13_0006.mp4', 'id12_id10_0004.mp4', 'id12_id10_0002.mp4', 'id11_id7_0007.mp4', 'id10_id7_0009.mp4', 'id11_id7_0005.mp4', 'id11_id7_0002.mp4', 'id10_id7_0006.mp4', 'id11_id7_0000.mp4', 'id11_id7_0003.mp4', 'id11_id7_0004.mp4', 'id11_id7_0006.mp4', 'id10_id7_0004.mp4', 'id11_id7_0010.mp4', 'id10_id7_0005.mp4', 'id11_id7_0009.mp4', 'id10_id7_0008.mp4', 'id11_id7_0001.mp4', 'id10_id7_0007.mp4', 'id10_id7_0003.mp4', 'id11_id7_0008.mp4', 'id12_id10_0001.mp4', 'id12_id7_0006.mp4', 'id13_id10_0005.mp4', 'id13_id10_0001.mp4', 'id13_id10_0003.mp4', 'id12_id7_0004.mp4', 'id12_id7_0002.mp4', 'id13_id10_0011.mp4', 'id13_id10_0007.mp4', 'id12_id10_0005.mp4', 'id12_id7_0000.mp4', 'id12_id7_0005.mp4', 'id12_id10_0006.mp4', 'id13_id10_0000.mp4', 'id13_id10_0008.mp4', 'id13_id10_0004.mp4', 'id12_id7_0001.mp4', 'id13_id7_0003.mp4', 'id13_id7_0008.mp4', 'id13_id10_0012.mp4', 'id13_id7_0004.mp4', 'id13_id7_0005.mp4', 'id13_id7_0002.mp4', 'id13_id7_0000.mp4', 'id13_id7_0011.mp4', 'id13_id7_0007.mp4', 'id13_id7_0001.mp4', 'id13_id7_0009.mp4', 'id13_id10_0014.mp4', 'id13_id10_0015.mp4', 'id16_id0_0010.mp4', 'id16_id0_0000.mp4', 'id16_id17_0004.mp4', 'id16_id17_0000.mp4', 'id16_id17_0001.mp4', 'id13_id7_0015.mp4', 'id16_id0_0006.mp4', 'id16_id0_0013.mp4', 'id16_id0_0012.mp4', 'id16_id0_0003.mp4', 'id16_id17_0005.mp4', 'id16_id0_0005.mp4', 'id16_id0_0011.mp4', 'id16_id0_0002.mp4', 'id16_id0_0004.mp4', 'id16_id0_0001.mp4', 'id16_id17_0003.mp4', 'id16_id0_0007.mp4', 'id16_id17_0002.mp4', 'id13_id7_0012.mp4', 'id16_id0_0009.mp4', 'id16_id17_0011.mp4', 'id16_id1_0006.mp4', 'id16_id17_0010.mp4', 'id16_id1_0004.mp4', 'id16_id1_0010.mp4', 'id16_id1_0000.mp4', 'id16_id17_0013.mp4', 'id16_id1_0001.mp4', 'id16_id1_0007.mp4', 'id16_id1_0002.mp4', 'id16_id17_0009.mp4', 'id16_id1_0005.mp4', 'id16_id17_0012.mp4', 'id16_id1_0011.mp4', 'id16_id1_0003.mp4', 'id16_id17_0007.mp4', 'id16_id17_0006.mp4', 'id16_id1_0009.mp4', 'id16_id2_0001.mp4', 'id16_id2_0005.mp4', 'id16_id2_0000.mp4', 'id16_id1_0013.mp4', 'id16_id2_0007.mp4', 'id16_id2_0004.mp4', 'id16_id2_0003.mp4', 'id16_id2_0009.mp4', 'id16_id2_0010.mp4', 'id16_id2_0002.mp4', 'id16_id1_0012.mp4', 'id16_id2_0011.mp4', 'id16_id2_0006.mp4', 'id16_id6_0005.mp4', 'id16_id2_0012.mp4', 'id16_id3_0007.mp4', 'id16_id3_0011.mp4', 'id16_id3_0002.mp4', 'id16_id3_0006.mp4', 'id16_id6_0006.mp4', 'id16_id6_0002.mp4', 'id16_id3_0012.mp4', 'id16_id6_0003.mp4', 'id16_id2_0013.mp4', 'id16_id6_0001.mp4', 'id16_id3_0009.mp4', 'id16_id3_0004.mp4', 'id16_id6_0000.mp4', 'id16_id3_0000.mp4', 'id16_id3_0001.mp4', 'id16_id6_0004.mp4', 'id16_id3_0010.mp4', 'id16_id3_0003.mp4', 'id16_id3_0005.mp4', 'id16_id3_0013.mp4', 'id16_id9_0003.mp4', 'id16_id9_0009.mp4', 'id16_id6_0010.mp4', 'id16_id9_0001.mp4', 'id16_id6_0012.mp4', 'id16_id6_0011.mp4', 'id16_id6_0007.mp4', 'id16_id9_0000.mp4', 'id16_id6_0013.mp4', 'id16_id9_0011.mp4', 'id16_id9_0004.mp4', 'id16_id9_0007.mp4', 'id16_id9_0012.mp4', 'id16_id9_0010.mp4', 'id16_id9_0006.mp4', 'id16_id6_0009.mp4', 'id16_id9_0005.mp4', 'id16_id9_0002.mp4', 'id17_id16_0001.mp4', 'id17_id0_0001.mp4', 'id17_id0_0004.mp4', 'id16_id9_0013.mp4', 'id17_id16_0002.mp4', 'id17_id0_0003.mp4', 'id17_id0_0007.mp4', 'id17_id0_0000.mp4', 'id17_id0_0002.mp4', 'id17_id16_0000.mp4', 'id17_id0_0006.mp4', 'id17_id0_0009.mp4', 'id17_id0_0005.mp4', 'id17_id16_0003.mp4', 'id17_id1_0007.mp4', 'id17_id1_0000.mp4', 'id17_id16_0009.mp4', 'id17_id16_0007.mp4', 'id17_id2_0001.mp4', 'id17_id2_0004.mp4', 'id17_id2_0002.mp4', 'id17_id1_0001.mp4', 'id17_id16_0005.mp4', 'id17_id1_0002.mp4', 'id17_id1_0009.mp4', 'id17_id16_0006.mp4', 'id17_id2_0005.mp4', 'id17_id1_0004.mp4', 'id17_id16_0004.mp4', 'id17_id2_0000.mp4', 'id17_id2_0003.mp4', 'id17_id1_0003.mp4', 'id17_id1_0005.mp4', 'id17_id1_0006.mp4', 'id17_id3_0002.mp4', 'id17_id2_0009.mp4', 'id17_id3_0009.mp4', 'id17_id6_0002.mp4', 'id17_id3_0005.mp4', 'id17_id3_0006.mp4', 'id17_id3_0004.mp4', 'id17_id6_0006.mp4', 'id17_id6_0000.mp4', 'id17_id6_0003.mp4', 'id17_id2_0007.mp4', 'id17_id3_0001.mp4', 'id17_id3_0007.mp4', 'id17_id6_0001.mp4', 'id17_id2_0006.mp4', 'id17_id3_0000.mp4', 'id17_id6_0005.mp4', 'id17_id3_0003.mp4', 'id17_id6_0004.mp4', 'id17_id9_0003.mp4', 'id17_id9_0009.mp4', 'id1_id0_0000.mp4', 'id17_id9_0007.mp4', 'id17_id9_0006.mp4', 'id17_id9_0001.mp4', 'id17_id9_0002.mp4', 'id17_id6_0009.mp4', 'id1_id0_0001.mp4', 'id17_id6_0007.mp4', 'id17_id9_0005.mp4', 'id17_id9_0004.mp4', 'id17_id9_0000.mp4', 'id1_id0_0002.mp4', 'id1_id16_0004.mp4', 'id1_id0_0004.mp4', 'id1_id16_0005.mp4', 'id1_id16_0002.mp4', 'id1_id17_0003.mp4', 'id1_id17_0002.mp4', 'id1_id17_0000.mp4', 'id1_id0_0007.mp4', 'id1_id0_0009.mp4', 'id1_id17_0001.mp4', 'id1_id16_0006.mp4', 'id1_id16_0000.mp4', 'id1_id0_0005.mp4', 'id1_id16_0009.mp4', 'id1_id17_0005.mp4', 'id1_id0_0006.mp4', 'id1_id16_0007.mp4', 'id1_id16_0001.mp4', 'id1_id16_0003.mp4', 'id1_id17_0004.mp4', 'id1_id0_0003.mp4', 'id1_id3_0009.mp4', 'id1_id3_0003.mp4', 'id1_id2_0003.mp4', 'id1_id4_0000.mp4', 'id1_id2_0007.mp4', 'id1_id3_0000.mp4', 'id1_id2_0004.mp4', 'id1_id3_0005.mp4', 'id1_id17_0009.mp4', 'id1_id2_0006.mp4', 'id1_id2_0001.mp4', 'id1_id2_0009.mp4', 'id1_id2_0002.mp4', 'id1_id2_0000.mp4', 'id1_id3_0004.mp4', 'id1_id3_0001.mp4', 'id1_id17_0006.mp4', 'id1_id17_0007.mp4', 'id1_id3_0006.mp4', 'id1_id2_0005.mp4', 'id1_id3_0007.mp4', 'id1_id3_0002.mp4', 'id1_id4_0002.mp4', 'id1_id6_0005.mp4', 'id1_id4_0001.mp4', 'id1_id4_0006.mp4', 'id1_id4_0007.mp4', 'id1_id6_0000.mp4', 'id1_id6_0001.mp4', 'id1_id4_0009.mp4', 'id1_id4_0005.mp4', 'id1_id6_0002.mp4', 'id1_id6_0004.mp4', 'id1_id4_0003.mp4', 'id1_id6_0003.mp4', 'id1_id4_0004.mp4', 'id2_id0_0000.mp4', 'id1_id9_0003.mp4', 'id1_id9_0005.mp4', 'id1_id9_0000.mp4', 'id1_id9_0009.mp4', 'id1_id9_0007.mp4', 'id1_id6_0006.mp4', 'id1_id6_0009.mp4', 'id1_id9_0004.mp4', 'id1_id9_0006.mp4', 'id1_id9_0002.mp4', 'id2_id0_0001.mp4', 'id1_id9_0001.mp4', 'id1_id6_0007.mp4', 'id2_id0_0003.mp4', 'id2_id16_0006.mp4', 'id2_id16_0001.mp4', 'id2_id0_0009.mp4', 'id2_id0_0002.mp4', 'id2_id0_0004.mp4', 'id2_id16_0005.mp4', 'id2_id16_0004.mp4', 'id2_id0_0008.mp4', 'id2_id0_0007.mp4', 'id2_id16_0008.mp4', 'id2_id16_0002.mp4', 'id2_id0_0006.mp4', 'id2_id16_0003.mp4', 'id2_id17_0000.mp4', 'id2_id16_0009.mp4', 'id2_id16_0000.mp4', 'id2_id0_0005.mp4', 'id2_id16_0007.mp4', 'id2_id1_0001.mp4', 'id2_id1_0003.mp4', 'id2_id17_0001.mp4', 'id2_id1_0000.mp4', 'id2_id17_0002.mp4', 'id2_id17_0009.mp4', 'id2_id17_0003.mp4', 'id2_id17_0008.mp4', 'id2_id17_0005.mp4', 'id2_id1_0002.mp4', 'id2_id17_0006.mp4', 'id2_id17_0004.mp4', 'id2_id17_0007.mp4', 'id2_id3_0003.mp4', 'id2_id1_0007.mp4', 'id2_id3_0002.mp4', 'id2_id1_0005.mp4', 'id2_id3_0000.mp4', 'id2_id1_0008.mp4', 'id2_id3_0001.mp4', 'id2_id3_0006.mp4', 'id2_id3_0005.mp4', 'id2_id3_0004.mp4', 'id2_id3_0009.mp4', 'id2_id1_0004.mp4', 'id2_id1_0009.mp4', 'id2_id3_0008.mp4', 'id2_id3_0007.mp4', 'id2_id1_0006.mp4', 'id2_id4_0008.mp4', 'id2_id6_0005.mp4', 'id2_id6_0003.mp4', 'id2_id6_0004.mp4', 'id2_id6_0006.mp4', 'id2_id4_0006.mp4', 'id2_id4_0003.mp4', 'id2_id4_0002.mp4', 'id2_id6_0001.mp4', 'id2_id6_0007.mp4', 'id2_id4_0000.mp4', 'id2_id9_0000.mp4', 'id2_id4_0001.mp4', 'id2_id4_0009.mp4', 'id2_id6_0002.mp4', 'id2_id4_0007.mp4', 'id2_id6_0008.mp4', 'id2_id6_0009.mp4', 'id2_id9_0001.mp4', 'id2_id9_0003.mp4', 'id2_id9_0008.mp4', 'id3_id0_0001.mp4', 'id3_id0_0002.mp4', 'id2_id9_0006.mp4', 'id2_id9_0007.mp4', 'id2_id9_0002.mp4', 'id3_id0_0000.mp4', 'id2_id9_0009.mp4', 'id3_id0_0003.mp4', 'id2_id9_0004.mp4', 'id2_id9_0005.mp4', 'id3_id17_0001.mp4', 'id3_id0_0007.mp4', 'id3_id0_0005.mp4', 'id3_id16_0008.mp4', 'id3_id16_0000.mp4', 'id3_id16_0006.mp4', 'id3_id16_0003.mp4', 'id3_id0_0006.mp4', 'id3_id16_0002.mp4', 'id3_id0_0004.mp4', 'id3_id0_0008.mp4', 'id3_id17_0000.mp4', 'id3_id16_0009.mp4', 'id3_id16_0004.mp4', 'id3_id16_0005.mp4', 'id3_id0_0009.mp4', 'id3_id16_0001.mp4', 'id3_id17_0002.mp4', 'id3_id17_0003.mp4', 'id3_id1_0004.mp4', 'id3_id17_0004.mp4', 'id3_id1_0005.mp4', 'id3_id1_0007.mp4', 'id3_id17_0007.mp4', 'id3_id1_0002.mp4', 'id3_id2_0002.mp4', 'id3_id1_0008.mp4', 'id3_id17_0009.mp4', 'id3_id2_0001.mp4', 'id3_id17_0008.mp4', 'id3_id1_0009.mp4', 'id3_id1_0003.mp4', 'id3_id2_0000.mp4', 'id3_id1_0006.mp4', 'id3_id1_0001.mp4', 'id3_id17_0005.mp4', 'id3_id17_0006.mp4', 'id3_id2_0003.mp4', 'id3_id2_0008.mp4', 'id3_id2_0009.mp4', 'id3_id2_0005.mp4', 'id3_id2_0006.mp4', 'id3_id4_0001.mp4', 'id3_id2_0007.mp4', 'id3_id2_0004.mp4', 'id3_id4_0003.mp4', 'id3_id4_0004.mp4', 'id3_id4_0006.mp4', 'id3_id6_0002.mp4', 'id3_id6_0007.mp4', 'id3_id6_0005.mp4', 'id3_id6_0003.mp4', 'id3_id6_0001.mp4', 'id3_id6_0000.mp4', 'id3_id4_0008.mp4', 'id3_id4_0005.mp4', 'id3_id6_0006.mp4', 'id3_id6_0008.mp4', 'id3_id6_0004.mp4', 'id3_id9_0002.mp4', 'id3_id6_0009.mp4', 'id4_id0_0000.mp4', 'id4_id0_0001.mp4', 'id3_id9_0007.mp4', 'id3_id9_0009.mp4', 'id3_id9_0000.mp4', 'id3_id9_0008.mp4', 'id3_id9_0005.mp4', 'id3_id9_0004.mp4', 'id3_id9_0001.mp4', 'id3_id9_0003.mp4', 'id3_id9_0006.mp4', 'id4_id0_0007.mp4', 'id4_id0_0002.mp4', 'id4_id1_0007.mp4', 'id4_id1_0003.mp4', 'id4_id0_0006.mp4', 'id4_id1_0005.mp4', 'id4_id1_0006.mp4', 'id4_id0_0003.mp4', 'id4_id1_0009.mp4', 'id4_id1_0001.mp4', 'id4_id0_0008.mp4', 'id4_id0_0005.mp4', 'id4_id1_0002.mp4', 'id4_id2_0000.mp4', 'id4_id0_0009.mp4', 'id4_id1_0008.mp4', 'id4_id0_0004.mp4', 'id4_id1_0000.mp4', 'id4_id1_0004.mp4', 'id4_id3_0005.mp4', 'id4_id2_0001.mp4', 'id4_id3_0003.mp4', 'id4_id2_0008.mp4', 'id4_id3_0001.mp4', 'id4_id2_0009.mp4', 'id4_id2_0002.mp4', 'id4_id2_0007.mp4', 'id4_id3_0006.mp4', 'id4_id2_0006.mp4', 'id4_id2_0004.mp4', 'id4_id2_0003.mp4', 'id4_id3_0007.mp4', 'id4_id3_0004.mp4', 'id4_id3_0002.mp4', 'id4_id3_0000.mp4', 'id4_id2_0005.mp4', 'id4_id6_0003.mp4', 'id4_id6_0000.mp4', 'id4_id6_0001.mp4', 'id4_id6_0008.mp4', 'id4_id3_0008.mp4', 'id4_id6_0009.mp4', 'id4_id6_0002.mp4', 'id4_id6_0005.mp4', 'id4_id3_0009.mp4', 'id4_id6_0007.mp4', 'id4_id6_0004.mp4', 'id4_id6_0006.mp4', 'id4_id9_0008.mp4', 'id4_id9_0006.mp4', 'id4_id9_0002.mp4', 'id4_id9_0007.mp4', 'id4_id9_0004.mp4', 'id4_id9_0000.mp4', 'id4_id9_0001.mp4', 'id6_id0_0003.mp4', 'id6_id0_0002.mp4', 'id6_id0_0001.mp4', 'id6_id0_0007.mp4', 'id6_id0_0000.mp4', 'id4_id9_0003.mp4', 'id6_id0_0006.mp4', 'id6_id0_0005.mp4', 'id6_id0_0004.mp4', 'id4_id9_0005.mp4', 'id6_id16_0001.mp4', 'id6_id0_0009.mp4', 'id6_id16_0005.mp4', 'id6_id16_0003.mp4', 'id6_id16_0008.mp4', 'id6_id16_0000.mp4', 'id6_id16_0007.mp4', 'id6_id16_0002.mp4', 'id6_id16_0006.mp4', 'id6_id17_0002.mp4', 'id6_id16_0004.mp4', 'id6_id0_0008.mp4', 'id6_id17_0000.mp4', 'id6_id17_0001.mp4', 'id6_id16_0009.mp4', 'id6_id17_0006.mp4', 'id6_id1_0002.mp4', 'id6_id1_0003.mp4', 'id6_id17_0005.mp4', 'id6_id17_0004.mp4', 'id6_id17_0007.mp4', 'id6_id17_0003.mp4', 'id6_id17_0009.mp4', 'id6_id1_0000.mp4', 'id6_id17_0008.mp4', 'id6_id1_0001.mp4', 'id6_id1_0007.mp4', 'id6_id2_0001.mp4', 'id6_id1_0009.mp4', 'id6_id1_0004.mp4', 'id6_id1_0005.mp4', 'id6_id2_0003.mp4', 'id6_id2_0007.mp4', 'id6_id2_0008.mp4', 'id6_id2_0005.mp4', 'id6_id1_0006.mp4', 'id6_id2_0000.mp4', 'id6_id2_0002.mp4', 'id6_id2_0004.mp4', 'id6_id2_0006.mp4', 'id6_id1_0008.mp4', 'id6_id4_0006.mp4', 'id6_id4_0007.mp4', 'id6_id3_0009.mp4', 'id6_id3_0008.mp4', 'id6_id4_0004.mp4', 'id6_id3_0003.mp4', 'id6_id3_0004.mp4', 'id6_id3_0002.mp4', 'id6_id3_0001.mp4', 'id6_id4_0001.mp4', 'id6_id3_0000.mp4', 'id6_id3_0007.mp4', 'id6_id2_0009.mp4', 'id6_id3_0006.mp4', 'id6_id4_0005.mp4', 'id6_id3_0005.mp4', 'id6_id9_0006.mp4', 'id6_id4_0008.mp4', 'id6_id9_0005.mp4', 'id6_id9_0008.mp4', 'id6_id9_0004.mp4', 'id6_id9_0000.mp4', 'id6_id9_0001.mp4', 'id6_id9_0007.mp4', 'id6_id9_0003.mp4', 'id6_id9_0002.mp4', 'id6_id4_0009.mp4', 'id7_id10_0002.mp4', 'id7_id11_0009.mp4', 'id7_id10_0003.mp4', 'id7_id12_0000.mp4', 'id7_id11_0001.mp4', 'id7_id10_0007.mp4', 'id7_id10_0009.mp4', 'id7_id11_0002.mp4', 'id7_id10_0001.mp4', 'id7_id11_0005.mp4', 'id7_id10_0004.mp4', 'id7_id11_0000.mp4', 'id7_id10_0005.mp4', 'id7_id11_0006.mp4', 'id7_id11_0004.mp4', 'id7_id11_0007.mp4', 'id6_id9_0009.mp4', 'id7_id13_0002.mp4', 'id7_id12_0005.mp4', 'id7_id13_0006.mp4', 'id8_id1_0002.mp4', 'id7_id13_0004.mp4', 'id8_id0_0003.mp4', 'id7_id12_0009.mp4', 'id7_id12_0004.mp4', 'id8_id0_0007.mp4', 'id8_id0_0002.mp4', 'id7_id12_0002.mp4', 'id7_id13_0000.mp4', 'id7_id12_0007.mp4', 'id7_id13_0009.mp4', 'id7_id13_0005.mp4', 'id7_id13_0007.mp4', 'id8_id1_0003.mp4', 'id8_id0_0008.mp4', 'id7_id13_0001.mp4', 'id8_id1_0007.mp4', 'id8_id1_0008.mp4', 'id8_id3_0007.mp4', 'id8_id2_0008.mp4', 'id8_id2_0002.mp4', 'id8_id2_0003.mp4', 'id8_id3_0003.mp4', 'id8_id3_0008.mp4', 'id8_id3_0002.mp4', 'id8_id2_0007.mp4', 'id8_id5_0002.mp4', 'id8_id7_0007.mp4', 'id8_id6_0008.mp4', 'id8_id5_0003.mp4', 'id8_id5_0007.mp4', 'id8_id6_0002.mp4', 'id8_id7_0002.mp4', 'id8_id6_0003.mp4', 'id8_id5_0008.mp4', 'id8_id4_0007.mp4', 'id8_id7_0003.mp4', 'id8_id6_0007.mp4', 'id8_id7_0008.mp4', 'id8_id9_0002.mp4', 'id9_id16_0003.mp4', 'id9_id16_0004.mp4', 'id9_id0_0001.mp4', 'id9_id0_0005.mp4', 'id9_id0_0009.mp4', 'id9_id0_0003.mp4', 'id9_id16_0000.mp4', 'id8_id9_0008.mp4', 'id9_id0_0006.mp4', 'id8_id9_0003.mp4', 'id9_id0_0007.mp4', 'id9_id16_0001.mp4', 'id9_id0_0000.mp4', 'id9_id0_0004.mp4', 'id8_id9_0007.mp4', 'id9_id16_0002.mp4', 'id9_id0_0008.mp4', 'id9_id16_0006.mp4', 'id9_id16_0008.mp4', 'id9_id16_0005.mp4', 'id9_id16_0007.mp4', 'id9_id17_0000.mp4', 'id9_id17_0003.mp4', 'id9_id17_0001.mp4', 'id9_id17_0004.mp4', 'id9_id17_0002.mp4', 'id9_id16_0009.mp4', 'id9_id17_0005.mp4', 'id9_id2_0000.mp4', 'id9_id17_0006.mp4', 'id9_id1_0000.mp4', 'id9_id1_0001.mp4', 'id9_id2_0001.mp4', 'id9_id1_0009.mp4', 'id9_id1_0006.mp4', 'id9_id17_0008.mp4', 'id9_id1_0004.mp4', 'id9_id2_0002.mp4', 'id9_id17_0009.mp4', 'id9_id17_0007.mp4', 'id9_id1_0002.mp4', 'id9_id1_0008.mp4', 'id9_id1_0005.mp4', 'id9_id2_0009.mp4', 'id9_id2_0005.mp4', 'id9_id3_0007.mp4', 'id9_id4_0001.mp4', 'id9_id3_0000.mp4', 'id9_id3_0008.mp4', 'id9_id3_0004.mp4', 'id9_id3_0001.mp4', 'id9_id2_0008.mp4', 'id9_id3_0009.mp4', 'id9_id2_0004.mp4', 'id9_id2_0007.mp4', 'id9_id3_0006.mp4', 'id9_id3_0002.mp4', 'id9_id4_0000.mp4', 'id9_id3_0005.mp4', 'id9_id2_0006.mp4', 'id9_id4_0008.mp4', 'id9_id4_0009.mp4', 'id9_id4_0006.mp4', 'id9_id6_0001.mp4', 'id9_id6_0002.mp4', 'id9_id4_0007.mp4', 'id9_id4_0004.mp4', 'id9_id4_0002.mp4', 'id9_id6_0004.mp4', 'id9_id4_0005.mp4', 'id9_id6_0000.mp4', 'id9_id6_0005.mp4', 'id9_id6_0009.mp4', 'id9_id6_0007.mp4', 'id9_id6_0008.mp4', 'id9_id6_0006.mp4']\n"
          ]
        }
      ]
    },
    {
      "cell_type": "code",
      "source": [
        "# import cv2\n",
        "# import os\n",
        "\n",
        "# def frame_generator(video_path, frame_interval=25):\n",
        "#     cap = cv2.VideoCapture(video_path)\n",
        "#     frame_count = 0\n",
        "#     while cap.isOpened():\n",
        "#         ret, frame = cap.read()\n",
        "#         if not ret:\n",
        "#             break\n",
        "#         if frame_count % frame_interval == 0:\n",
        "#             yield frame\n",
        "#         frame_count += 1\n",
        "#     cap.release()\n",
        "\n",
        "# # Define the paths to your dataset in Google Drive\n",
        "# real_videos_dir = '/content/drive/MyDrive/Celeb-DF/Celeb-real'\n",
        "# fake_videos_dir = '/content/drive/MyDrive/Celeb-DF/Celeb-synthesis'\n",
        "\n",
        "# # Define a directory to save the extracted frames\n",
        "# output_dir = '/content/drive/MyDrive/extracted_frames'\n",
        "# os.makedirs(output_dir, exist_ok=True)  # Create the directory if it doesn't exist\n",
        "\n",
        "# # Get the paths to all video files in the directories\n",
        "# real_video_paths = [os.path.join(real_videos_dir, filename) for filename in os.listdir(real_videos_dir)]\n",
        "# fake_video_paths = [os.path.join(fake_videos_dir, filename) for filename in os.listdir(fake_videos_dir)]\n",
        "\n",
        "# # Process frames and save them\n",
        "# frame_counter = 0\n",
        "# for video_path in real_video_paths + fake_video_paths: # Process both real and fake videos\n",
        "#     for frame in frame_generator(video_path):\n",
        "#         output_path = os.path.join(output_dir, f'frame_{frame_counter}.jpg')\n",
        "#         cv2.imwrite(output_path, frame)\n",
        "#         frame_counter += 1\n",
        "\n",
        "# print(f\"Extracted {frame_counter} frames and saved to {output_dir}\")"
      ],
      "metadata": {
        "colab": {
          "base_uri": "https://localhost:8080/",
          "height": 332
        },
        "id": "wPLA29B4f4Fn",
        "outputId": "7ed7e406-d375-4313-b679-1bb36d4389fa"
      },
      "execution_count": null,
      "outputs": [
        {
          "output_type": "error",
          "ename": "KeyboardInterrupt",
          "evalue": "",
          "traceback": [
            "\u001b[0;31m---------------------------------------------------------------------------\u001b[0m",
            "\u001b[0;31mKeyboardInterrupt\u001b[0m                         Traceback (most recent call last)",
            "\u001b[0;32m<ipython-input-4-55d2c7d0ebfe>\u001b[0m in \u001b[0;36m<cell line: 30>\u001b[0;34m()\u001b[0m\n\u001b[1;32m     29\u001b[0m \u001b[0mframe_counter\u001b[0m \u001b[0;34m=\u001b[0m \u001b[0;36m0\u001b[0m\u001b[0;34m\u001b[0m\u001b[0;34m\u001b[0m\u001b[0m\n\u001b[1;32m     30\u001b[0m \u001b[0;32mfor\u001b[0m \u001b[0mvideo_path\u001b[0m \u001b[0;32min\u001b[0m \u001b[0mreal_video_paths\u001b[0m \u001b[0;34m+\u001b[0m \u001b[0mfake_video_paths\u001b[0m\u001b[0;34m:\u001b[0m \u001b[0;31m# Process both real and fake videos\u001b[0m\u001b[0;34m\u001b[0m\u001b[0;34m\u001b[0m\u001b[0m\n\u001b[0;32m---> 31\u001b[0;31m     \u001b[0;32mfor\u001b[0m \u001b[0mframe\u001b[0m \u001b[0;32min\u001b[0m \u001b[0mframe_generator\u001b[0m\u001b[0;34m(\u001b[0m\u001b[0mvideo_path\u001b[0m\u001b[0;34m)\u001b[0m\u001b[0;34m:\u001b[0m\u001b[0;34m\u001b[0m\u001b[0;34m\u001b[0m\u001b[0m\n\u001b[0m\u001b[1;32m     32\u001b[0m         \u001b[0moutput_path\u001b[0m \u001b[0;34m=\u001b[0m \u001b[0mos\u001b[0m\u001b[0;34m.\u001b[0m\u001b[0mpath\u001b[0m\u001b[0;34m.\u001b[0m\u001b[0mjoin\u001b[0m\u001b[0;34m(\u001b[0m\u001b[0moutput_dir\u001b[0m\u001b[0;34m,\u001b[0m \u001b[0;34mf'frame_{frame_counter}.jpg'\u001b[0m\u001b[0;34m)\u001b[0m\u001b[0;34m\u001b[0m\u001b[0;34m\u001b[0m\u001b[0m\n\u001b[1;32m     33\u001b[0m         \u001b[0mcv2\u001b[0m\u001b[0;34m.\u001b[0m\u001b[0mimwrite\u001b[0m\u001b[0;34m(\u001b[0m\u001b[0moutput_path\u001b[0m\u001b[0;34m,\u001b[0m \u001b[0mframe\u001b[0m\u001b[0;34m)\u001b[0m\u001b[0;34m\u001b[0m\u001b[0;34m\u001b[0m\u001b[0m\n",
            "\u001b[0;32m<ipython-input-4-55d2c7d0ebfe>\u001b[0m in \u001b[0;36mframe_generator\u001b[0;34m(video_path, frame_interval)\u001b[0m\n\u001b[1;32m      6\u001b[0m     \u001b[0mframe_count\u001b[0m \u001b[0;34m=\u001b[0m \u001b[0;36m0\u001b[0m\u001b[0;34m\u001b[0m\u001b[0;34m\u001b[0m\u001b[0m\n\u001b[1;32m      7\u001b[0m     \u001b[0;32mwhile\u001b[0m \u001b[0mcap\u001b[0m\u001b[0;34m.\u001b[0m\u001b[0misOpened\u001b[0m\u001b[0;34m(\u001b[0m\u001b[0;34m)\u001b[0m\u001b[0;34m:\u001b[0m\u001b[0;34m\u001b[0m\u001b[0;34m\u001b[0m\u001b[0m\n\u001b[0;32m----> 8\u001b[0;31m         \u001b[0mret\u001b[0m\u001b[0;34m,\u001b[0m \u001b[0mframe\u001b[0m \u001b[0;34m=\u001b[0m \u001b[0mcap\u001b[0m\u001b[0;34m.\u001b[0m\u001b[0mread\u001b[0m\u001b[0;34m(\u001b[0m\u001b[0;34m)\u001b[0m\u001b[0;34m\u001b[0m\u001b[0;34m\u001b[0m\u001b[0m\n\u001b[0m\u001b[1;32m      9\u001b[0m         \u001b[0;32mif\u001b[0m \u001b[0;32mnot\u001b[0m \u001b[0mret\u001b[0m\u001b[0;34m:\u001b[0m\u001b[0;34m\u001b[0m\u001b[0;34m\u001b[0m\u001b[0m\n\u001b[1;32m     10\u001b[0m             \u001b[0;32mbreak\u001b[0m\u001b[0;34m\u001b[0m\u001b[0;34m\u001b[0m\u001b[0m\n",
            "\u001b[0;31mKeyboardInterrupt\u001b[0m: "
          ]
        }
      ]
    },
    {
      "cell_type": "code",
      "source": [
        "# from tensorflow.keras.preprocessing.image import ImageDataGenerator\n",
        "# import numpy as np\n",
        "# import cv2\n",
        "# import os\n",
        "\n",
        "# # ... (previous code for frame extraction)\n",
        "\n",
        "# datagen = ImageDataGenerator(\n",
        "#     rotation_range=20,\n",
        "#     width_shift_range=0.2,\n",
        "#     height_shift_range=0.2,\n",
        "#     zoom_range=0.2,\n",
        "#     horizontal_flip=True,\n",
        "#     fill_mode='nearest'\n",
        "# )\n",
        "\n",
        "# # Load and augment real frames one by one, saving to disk immediately\n",
        "# real_frames_dir = '/content/drive/MyDrive/extracted_frames'  # Update with the correct path\n",
        "# augmented_frames_dir = '/content/drive/MyDrive/augmented_frames'  # Directory to save augmented frames\n",
        "# os.makedirs(augmented_frames_dir, exist_ok=True)\n",
        "\n",
        "# real_frame_paths = [os.path.join(real_frames_dir, filename) for filename in os.listdir(real_frames_dir) if filename.endswith('.jpg')]\n",
        "\n",
        "# for i, frame_path in enumerate(real_frame_paths):\n",
        "#     frame = cv2.imread(frame_path)\n",
        "#     frame = frame.reshape((1,) + frame.shape)  # Reshape to (1, height, width, channels)\n",
        "\n",
        "#     for j, batch in enumerate(datagen.flow(frame, batch_size=1)):\n",
        "#         augmented_frame = batch[0].astype('uint8')\n",
        "#         output_path = os.path.join(augmented_frames_dir, f'augmented_frame_{i}_{j}.jpg')\n",
        "#         cv2.imwrite(output_path, augmented_frame)\n",
        "\n",
        "# print(\"Augmentation complete! Augmented frames saved to:\", augmented_frames_dir)"
      ],
      "metadata": {
        "id": "gsHRclNKgRje"
      },
      "execution_count": null,
      "outputs": []
    },
    {
      "cell_type": "code",
      "source": [
        "import cv2\n",
        "import numpy as np\n",
        "\n",
        "def apply_fft(frame):\n",
        "    gray_frame = cv2.cvtColor(frame, cv2.COLOR_BGR2GRAY)\n",
        "\n",
        "    # FFT\n",
        "    f_transform = np.fft.fft2(gray_frame)\n",
        "    f_shift = np.fft.fftshift(f_transform)\n",
        "\n",
        "    # High-frequency extraction: Zero out low-frequency components\n",
        "    center_x, center_y = f_shift.shape[0] // 2, f_shift.shape[1] // 2\n",
        "    high_freq_mask = np.ones_like(f_shift)\n",
        "    low_freq_size = 10  # Size of the low-frequency region to zero out (adjust as needed)\n",
        "    high_freq_mask[center_x - low_freq_size:center_x + low_freq_size,\n",
        "                   center_y - low_freq_size:center_y + low_freq_size] = 0\n",
        "    f_shift *= high_freq_mask\n",
        "\n",
        "    magnitude_spectrum = 20 * np.log(np.abs(f_shift) + 1e-7)\n",
        "\n",
        "    # Normalize and resize if needed\n",
        "    magnitude_spectrum = cv2.resize(magnitude_spectrum, (200, 200))  # Adjust size as needed\n",
        "\n",
        "    return magnitude_spectrum.flatten()\n"
      ],
      "metadata": {
        "id": "heN9rqk1CRWf"
      },
      "execution_count": null,
      "outputs": []
    },
    {
      "cell_type": "code",
      "source": [
        "import librosa\n",
        "\n",
        "def apply_mfcc(frame, sr=22050):\n",
        "    gray_frame_float = frame.astype(np.float32)\n",
        "\n",
        "    # Compute spectrogram\n",
        "    spectrogram = librosa.feature.melspectrogram(y=gray_frame_float.flatten(), sr=sr)\n",
        "\n",
        "    # Compute MFCC\n",
        "    mfcc = librosa.feature.mfcc(S=librosa.power_to_db(spectrogram))\n",
        "\n",
        "    # Resize or pad to fixed size\n",
        "    mfcc_flat = np.resize(mfcc.flatten(), (40,))  # Assuming fixed MFCC size of 40\n",
        "\n",
        "    return mfcc_flat\n"
      ],
      "metadata": {
        "id": "fIIonKAPgRf-"
      },
      "execution_count": null,
      "outputs": []
    },
    {
      "cell_type": "code",
      "source": [
        "import cv2\n",
        "import numpy as np\n",
        "import os\n",
        "import librosa\n",
        "\n",
        "# ... (Your apply_fft and apply_mfcc functions)\n",
        "\n",
        "batch_size = 100\n",
        "output_dir = '/content/drive/MyDrive/extracted_frames'\n",
        "features_dir = '/content/drive/MyDrive/extracted_features' # Directory to store features\n",
        "os.makedirs(features_dir, exist_ok=True)\n",
        "\n",
        "frame_files = [f for f in os.listdir(output_dir) if f.endswith('.jpg')]\n",
        "\n",
        "for i in range(0, len(frame_files), batch_size):\n",
        "    batch_frames = frame_files[i:i + batch_size]\n",
        "    batch_features = []\n",
        "\n",
        "    for frame_file in batch_frames:\n",
        "        frame_path = os.path.join(output_dir, frame_file)\n",
        "        frame = cv2.imread(frame_path)\n",
        "\n",
        "        # Process using FFT\n",
        "        fft_features = apply_fft(frame)\n",
        "\n",
        "        # Process using MFCC\n",
        "        mfcc_features = apply_mfcc(frame)\n",
        "\n",
        "        # Combine features - Ensure consistent shapes before concatenation\n",
        "        # You might need to resize or reshape the 'frame' array to match the others\n",
        "        # For example, you could resize 'frame' to a fixed size:\n",
        "        frame_resized = cv2.resize(frame, (200, 200)).flatten()  # Adjust size as needed\n",
        "\n",
        "        combined_features = np.concatenate([frame_resized, fft_features, mfcc_features])\n",
        "        batch_features.append(combined_features)\n",
        "\n",
        "    # Save features for this batch to a file\n",
        "    batch_features = np.array(batch_features)\n",
        "    np.save(os.path.join(features_dir, f'features_batch_{i}.npy'), batch_features)\n",
        "\n",
        "print(\"Feature extraction complete! Features saved in batches to:\", features_dir)"
      ],
      "metadata": {
        "id": "7F1Bb1oSgRd6"
      },
      "execution_count": null,
      "outputs": []
    },
    {
      "cell_type": "code",
      "source": [
        "# Dummy labels (replace with your actual labels)\n",
        "y = np.random.randint(0, 1, size=len(features))  # Example: random binary labels\n",
        "\n",
        "# Split data into training and validation sets\n",
        "X_train, X_val, y_train, y_val = train_test_split(features, y, test_size=0.2, random_state=42)\n"
      ],
      "metadata": {
        "id": "XyT19GdmgRbh"
      },
      "execution_count": null,
      "outputs": []
    },
    {
      "cell_type": "code",
      "source": [
        "from tensorflow.keras.models import Model\n",
        "from tensorflow.keras.layers import Input, Dense, Dropout, GlobalAveragePooling1D\n",
        "from tensorflow.keras.optimizers import Adam\n",
        "from tensorflow.keras.layers.experimental.preprocessing import Rescaling\n",
        "from tensorflow.keras.applications import EfficientNetB0\n",
        "\n",
        "# Assuming combined_features has appropriate dimensions\n",
        "input_shape = X_train.shape[1]\n",
        "\n",
        "# PVT Model architecture\n",
        "inputs = Input(shape=input_shape)\n",
        "x = Rescaling(1./255)(inputs)  # Rescale pixel values for EfficientNet\n",
        "\n",
        "# Replace with your own layers\n",
        "x = Dense(512, activation='relu')(x)\n",
        "x = Dropout(0.5)(x)\n",
        "x = Dense(256, activation='relu')(x)\n",
        "x = Dropout(0.3)(x)\n",
        "x = Dense(128, activation='relu')(x)\n",
        "outputs = Dense(1, activation='sigmoid')(x)  # Adjust output shape for your classification task\n",
        "\n",
        "model = Model(inputs=inputs, outputs=outputs)\n",
        "\n",
        "# Compile model\n",
        "model.compile(optimizer=Adam(lr=1e-4), loss='binary_crossentropy', metrics=['accuracy'])\n",
        "\n",
        "# Print model summary\n",
        "model.summary()"
      ],
      "metadata": {
        "id": "XoGCERLpDJkC"
      },
      "execution_count": null,
      "outputs": []
    },
    {
      "cell_type": "code",
      "source": [
        "# Train the model\n",
        "history = model.fit(X_train, y_train, epochs=10, batch_size=32, validation_data=(X_val, y_val))\n",
        "\n",
        "# Evaluate on validation set\n",
        "loss, accuracy = model.evaluate(X_val, y_val)\n",
        "print(f'Validation Accuracy: {accuracy:.4f}')"
      ],
      "metadata": {
        "id": "4EvSu3jyDNBo"
      },
      "execution_count": null,
      "outputs": []
    }
  ]
}